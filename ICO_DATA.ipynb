{
  "cells": [
    {
      "cell_type": "markdown",
      "metadata": {
        "id": "_2zFRFAG5pLQ"
      },
      "source": [
        "#  **FINAL PROJECT**\n",
        "## PREDICT ICO PRICE USING MACHINE LEARNING\n",
        "![alt text](https://i.imgur.com/mFQhIcT.jpg)\n"
      ]
    },
    {
      "cell_type": "code",
      "execution_count": null,
      "metadata": {},
      "outputs": [],
      "source": []
    },
    {
      "cell_type": "markdown",
      "metadata": {
        "id": "z3x9hWZQ5pLZ"
      },
      "source": [
        "### **AGENDA** \n",
        "- Import the necessary libraries and write the necessary functions.\n",
        "- Loading dataset.\n",
        "- Print out a scatter plot showing the correlation between the inputs and the outputs.\n",
        "- Encrypt and split data.\n",
        "- Using multivariable regression to calculate the outcome prediction => prove the influence of overfitting.\n",
        "- Ridge Regression\n",
        "  - Find the regression model with the best rMSE value.\n",
        "  - Find the regression model with the best R2 value.\n",
        "  - Load the above 2 models and calculate the performance.\n",
        "  - ICO price prediction.\n",
        "- Neural Network\n",
        "  - Find out the NN model with the best rMSE value.\n",
        "  - Find the model NN with the best R2 value.\n",
        "  - Load the above 2 models and calculate the performance.\n",
        "  - ICO price prediction."
      ]
    },
    {
      "cell_type": "markdown",
      "metadata": {
        "id": "6gvb0IDv5pLb"
      },
      "source": [
        "### **NEEDED LIB AND FUNCTION**"
      ]
    },
    {
      "cell_type": "markdown",
      "metadata": {
        "id": "O4JpLlog5pLc"
      },
      "source": [
        "### **LIBs**"
      ]
    },
    {
      "cell_type": "code",
      "execution_count": null,
      "metadata": {
        "id": "RfOgGPFQ5pLd"
      },
      "outputs": [],
      "source": [
        "%matplotlib inline\n",
        "import numpy as np\n",
        "import matplotlib.pyplot as plt\n",
        "from matplotlib import rc\n",
        "rc('font',**{'family':'sans-serif','sans-serif':['Helvetica']})\n",
        "rc('text', usetex=False)\n",
        "import pandas as pd\n",
        "from math import sqrt\n",
        "import seaborn as sns\n",
        "sns.set(style=\"ticks\", color_codes=True)\n",
        "from enum import Enum\n",
        "from sklearn.neural_network import MLPRegressor\n",
        "from sklearn.metrics import r2_score, mean_squared_error, mean_absolute_error\n",
        "from sklearn.model_selection import train_test_split\n",
        "from sklearn.preprocessing import StandardScaler\n",
        "from sklearn import linear_model\n",
        "import os\n",
        "from sklearn.preprocessing import OneHotEncoder\n",
        "import joblib\n",
        "from sklearn import decomposition, datasets\n",
        "from sklearn.pipeline import Pipeline\n",
        "from sklearn.model_selection import GridSearchCV\n",
        "import wget"
      ]
    },
    {
      "cell_type": "markdown",
      "metadata": {
        "id": "5qKxhom55pLo"
      },
      "source": [
        "### **FUNCTION**"
      ]
    },
    {
      "cell_type": "code",
      "execution_count": null,
      "metadata": {
        "id": "PvUpEAGs9VnD"
      },
      "outputs": [],
      "source": [
        "class LineaReggressionMetrics(Enum):\n",
        "    R_SQUARED = 1\n",
        "    ROOT_MEAN_SQUARED_ERROR = 2\n",
        "    MEAN_ABSOLUTE_ERROR = 3"
      ]
    },
    {
      "cell_type": "code",
      "execution_count": null,
      "metadata": {
        "id": "0UABkjmoXH2G"
      },
      "outputs": [],
      "source": [
        "class Solvers(Enum):\n",
        "    lbfgs = 1\n",
        "    sgd = 2\n",
        "    adam = 3"
      ]
    },
    {
      "cell_type": "code",
      "execution_count": null,
      "metadata": {
        "id": "K87EmaPRiT8S"
      },
      "outputs": [],
      "source": [
        "def load_DatasetUseNumpy(dataset = \"F:/PYTHON/DATA_ANALYSIS_PYTHON/00_PROJECT_ICO/DATA/ico_data_final.csv\"):\n",
        "    all_data = np.genfromtxt(fname=dataset, names=True, delimiter=',')\n",
        "    # Get all header in dataset.    \n",
        "    featureNames = all_data.dtype.names[1:-1] \n",
        "    # Get all name ico.\n",
        "    ico_names = np.genfromtxt(fname=dataset, delimiter=',',skip_header=1, usecols=0, dtype=str)\n",
        "    # Get all data in dataset except header and name ico.\n",
        "    all_data = np.genfromtxt(fname=dataset, delimiter=',',skip_header=1)[:,1:] \n",
        "    # Get all value attributes of the output.\n",
        "    x = np.genfromtxt(fname=dataset, delimiter=',',skip_header=1)[:,1:-1]\n",
        "    # Get all output.\n",
        "    y = np.genfromtxt(fname=dataset, delimiter=',',skip_header=1)[:,-1]\n",
        "    return (featureNames,x,y,ico_names)\n"
      ]
    },
    {
      "cell_type": "code",
      "execution_count": null,
      "metadata": {
        "id": "jogz4EQa5pLp"
      },
      "outputs": [],
      "source": [
        "def load_DatasetUsePanDas(path = \"F:/PYTHON/DATA_ANALYSIS_PYTHON/00_PROJECT_ICO/DATA/ico_data_final.csv\"):    \n",
        "    dataset = pd.read_csv(path)\n",
        "    x= dataset.iloc[:, 1:-1].values \n",
        "    data_com = dataset.iloc[:,1:14].values\n",
        "    print(data_com)\n",
        "    # Get last column.\n",
        "    y= dataset.iloc[:,13].values\n",
        "    icoNames = dataset.iloc[:,0]\n",
        "    featureNames = list(dataset.columns[1:-1])\n",
        "    return (featureNames, x, y, icoNames, data_com)"
      ]
    },
    {
      "cell_type": "code",
      "execution_count": null,
      "metadata": {
        "id": "yYfc4Ohl5pLw"
      },
      "outputs": [],
      "source": [
        "def createFolderIfDoesntExist(folderName):\n",
        "    exists = os.path.isdir(folderName)\n",
        "    if not exists:\n",
        "        os.makedirs(folderName)\n",
        "        \n",
        "    return exists"
      ]
    },
    {
      "cell_type": "code",
      "execution_count": null,
      "metadata": {
        "id": "7rkbNeND4B_H"
      },
      "outputs": [],
      "source": [
        "# Download Dataset form git.\n",
        "def loadDataFromGithub(fileName= \"F:/PYTHON/DATA_ANALYSIS_PYTHON/00_PROJECT_ICO/DATA/ico_data_final.csv\"):\n",
        "    exists = os.path.isfile(fileName)\n",
        "    if not exists:\n",
        "      !wget https://raw.githubusercontent.com/daominhthuan42/ICO_FINAL/master/CODE/ico_data_final.csv -P \"./DATASET/\""
      ]
    },
    {
      "cell_type": "code",
      "execution_count": null,
      "metadata": {
        "id": "D5LrPDgYhOd4"
      },
      "outputs": [],
      "source": [
        "def loadModel(fileName):\n",
        "    exists = os.path.isfile(fileName)\n",
        "    if exists:        \n",
        "        return joblib.load(fileName)\n",
        "    else:\n",
        "        return None"
      ]
    },
    {
      "cell_type": "code",
      "execution_count": null,
      "metadata": {
        "id": "9ZxucWgYjBJ6"
      },
      "outputs": [],
      "source": [
        "def createResultsFolderIfDoesntExist(folder):\n",
        "    folderExists = createFolderIfDoesntExist(folder)\n",
        "    if not folderExists:\n",
        "      #download best models from git \n",
        "      !wget https://raw.githubusercontent.com/daominhthuan42/ICO_FINAL/master/BEST_MODEL/bestRegressionModel_Ridge_ROOT_MEAN_SQUARED_ERROR.sav -P \"./RESULT/\"\n",
        "      !wget https://raw.githubusercontent.com/daominhthuan42/ICO_FINAL/master/BEST_MODEL/bestRegressionModel_Ridge_R_SQUARED.sav -P \"./RESULT/\"\n",
        "      !wget https://raw.githubusercontent.com/daominhthuan42/ICO_FINAL/master/BEST_MODEL/bestRegressionModel_Ridge_MEAN_ABSOLUTE_ERROR.sav -P \"./RESULT/\"\n",
        "      !wget https://raw.githubusercontent.com/daominhthuan42/ICO_FINAL/master/BEST_MODEL/bestNNModel_MEAN_ABSOLUTE_ERRORsgd.sav -P \"./RESULT/\"\n",
        "      !wget https://raw.githubusercontent.com/daominhthuan42/ICO_FINAL/master/BEST_MODEL/bestNNModel_ROOT_MEAN_SQUARED_ERRORsgd.sav -P \"./RESULT/\"\n",
        "      !wget https://raw.githubusercontent.com/daominhthuan42/ICO_FINAL/master/BEST_MODEL/bestNNModel_R_SQUAREDsgd.sav -P \"./RESULT/\"        "
      ]
    },
    {
      "cell_type": "code",
      "execution_count": null,
      "metadata": {
        "id": "Mez7QPsSEOYB"
      },
      "outputs": [],
      "source": [
        "def plotExpectedVsPredictedOutput(y_test, y_pred, fileName='', saveToFile=False):\n",
        "    fig, ax = plt.subplots(figsize=(10,10))\n",
        "    ax.scatter(y_test, y_pred, c = \"blue\", label = \"y_pred\")\n",
        "    ax.plot([y_pred.min(), y_pred.max()], [y_pred.min(), y_pred.max()], 'k--', lw=2)\n",
        "    ax.set_xlabel('Measured')\n",
        "    ax.set_ylabel('Predicted')\n",
        "    ax.legend(loc=\"upper left\")\n",
        "    plt.xlim(-10, 10)\n",
        "    plt.ylim(-10, 10)\n",
        "    plt.title(fileName)\n",
        "    if(saveToFile == True):\n",
        "        createFolderIfDoesntExist(\"IMAGE_RESULT/\")\n",
        "        plt.savefig('IMAGE_RESULT/'+fileName+\".png\", dpi = 300)\n",
        "    else: \n",
        "        plt.show()"
      ]
    },
    {
      "cell_type": "code",
      "execution_count": null,
      "metadata": {
        "id": "q0_6PeQX_FF0"
      },
      "outputs": [],
      "source": [
        "def plotExpectedVsPredictedOutput2(y_test, y_pred, fileName='', saveToFile = True):\n",
        "    plt.subplots(figsize=(6,6))    \n",
        "    plt.xlabel('y_pred')\n",
        "    plt.ylabel('y_test_holdout')   \n",
        "    sns.regplot(y_pred, y_test)    \n",
        "    plt.title(fileName)\n",
        "    if(saveToFile == True):\n",
        "        createFolderIfDoesntExist(\"IMAGE_RESULT/\")\n",
        "        plt.savefig('IMAGE_RESULT/'+fileName+\".png\", dpi = 300)    \n",
        "    plt.show()"
      ]
    },
    {
      "cell_type": "code",
      "execution_count": null,
      "metadata": {
        "id": "1s0ztOj9RthI"
      },
      "outputs": [],
      "source": [
        "def line_plot(line1, line2, label1= 'actual', label2= 'prediction', title='', lw=2, saveToFile = True):\n",
        "    fig, ax = plt.subplots(1, figsize=(13, 7))\n",
        "    ax.plot(line1,'-o',  color='darkorange', label=label1, linewidth=lw)\n",
        "    ax.plot(line2, '-s', color='navy', label=label2, linewidth=lw)   \n",
        "    ax.set_title(title, fontsize=16)\n",
        "    ax.legend(loc='best', fontsize=16)\n",
        "    if(saveToFile == True):\n",
        "        createFolderIfDoesntExist(\"IMAGE_LINE_PLOT/\")\n",
        "        plt.savefig('IMAGE_LINE_PLOT/'+title+\".png\", dpi = 500)\n",
        "    plt.show()"
      ]
    },
    {
      "cell_type": "code",
      "execution_count": null,
      "metadata": {
        "id": "952e1gDjTHGX"
      },
      "outputs": [],
      "source": [
        "def line_plot2(line, lw = 2, saveToFile= True, title='', label1=''):\n",
        "    fig, ax = plt.subplots(1, figsize=(12, 8))\n",
        "    ax.plot(line,  color='darkorange', label=label1, linewidth=lw)    \n",
        "    ax.set_title(title, fontsize=16)\n",
        "    ax.legend(loc='best', fontsize=16)\n",
        "    if(saveToFile == True):\n",
        "        createFolderIfDoesntExist(\"OPTIMIZE/\")\n",
        "        plt.savefig('OPTIMIZE/'+title+\".png\", dpi = 300)\n",
        "    plt.show()"
      ]
    },
    {
      "cell_type": "code",
      "execution_count": null,
      "metadata": {
        "id": "MzFX-7_uQ5ud"
      },
      "outputs": [],
      "source": [
        "def plotResult(y_test_hodlout, y_pred_rMSE, y_pred_R2, y_pred_MAE, saveToFile = True, rMSE = '', R2= '', MAE = ''):\n",
        "  f, ax = plt.subplots(figsize=(10, 7), nrows=3)  \n",
        "  f.tight_layout()\n",
        "  ax[0].plot(y_pred_rMSE, '-s', color='navy', label='Predicted Values', linewidth = 1);\n",
        "  ax[0].plot(y_test_hodlout, '-o', color='darkorange', label='Actual Values', linewidth = 1);\n",
        "  ax[0].set_title(\"Predicted vs Actuals Using Best model rMSE: \" + rMSE)\n",
        "  ax[0].legend(loc='best')\n",
        "\n",
        "  ax[1].plot(y_pred_R2, '-s', color='navy', label='Predicted Values', linewidth = 1);\n",
        "  ax[1].plot(y_test_hodlout, '-o', color='darkorange', label='Actual Values', linewidth = 1);\n",
        "  ax[1].set_title(\"Predicted vs Actuals Using Best model R2: \"+R2)\n",
        "  ax[1].legend(loc='best')\n",
        "\n",
        "  ax[2].plot(y_pred_MAE, '-s', color='navy', label='Predicted Values', linewidth = 1);\n",
        "  ax[2].plot(y_test_hodlout, '-o', color='darkorange', label='Actual Values', linewidth = 1);\n",
        "  ax[2].set_title(\"Predicted vs Actuals Using Best model MAE: \"+ MAE)\n",
        "  ax[2].legend(loc='best')\n",
        "  if(saveToFile == True):\n",
        "      createFolderIfDoesntExist(\"LINE_PLOT_3/\")\n",
        "      plt.savefig('LINE_PLOT_3/'+\"PLOT_RESULT\"+\".png\", dpi = 300)"
      ]
    },
    {
      "cell_type": "code",
      "execution_count": null,
      "metadata": {
        "id": "eS7p9xed39Jj"
      },
      "outputs": [],
      "source": [
        "def plotResult2(y_test_hodlout, y_pred_Ridge_rMSE, y_pred_Ridge_R2, y_pred_Ridge_MAE, y_pred_NN_rMSE, \n",
        "                y_pred_NN_R2, y_pred_NN_MAE, saveToFile = True, solver = Solvers.lbfgs):\n",
        "  f, ax = plt.subplots(figsize=(15, 10), nrows=6)   \n",
        "  f.tight_layout()\n",
        "  ax[0].plot(range(len(y_pred_Ridge_rMSE)), y_pred_Ridge_rMSE, '-s', color='navy', label='Predicted Values', linewidth = 1);\n",
        "  ax[0].plot(range(len(y_pred_Ridge_rMSE)), y_test_hodlout, '-o', color='darkorange', label='Actual Values', linewidth = 1);\n",
        "  ax[0].set_title(\"Predicted vs Actuals Using Best model rMSE Ridge\")\n",
        "  ax[0].legend(loc='best')\n",
        "\n",
        "  ax[1].plot(range(len(y_pred_Ridge_R2)), y_pred_Ridge_R2, '-s', color='navy', label='Predicted Values', linewidth = 1);\n",
        "  ax[1].plot(range(len(y_pred_Ridge_R2)), y_test_hodlout, '-o', color='darkorange', label='Actual Values', linewidth = 1);\n",
        "  ax[1].set_title(\"Predicted vs Actuals Using Best model R2 Ridge\")\n",
        "  ax[1].legend(loc='best')\n",
        "\n",
        "  ax[2].plot(range(len(y_pred_Ridge_MAE)), y_pred_Ridge_MAE, '-s', color='navy', label='Predicted Values', linewidth = 1);\n",
        "  ax[2].plot(range(len(y_pred_Ridge_MAE)), y_test_hodlout, '-o', color='darkorange', label='Actual Values', linewidth = 1);\n",
        "  ax[2].set_title(\"Predicted vs Actuals Using Best model MAE Ridge\")\n",
        "  ax[2].legend(loc='best')\n",
        "\n",
        "  ax[3].plot(range(len(y_pred_NN_rMSE)), y_pred_NN_rMSE, '-s', color='navy', label='Predicted Values', linewidth = 1);\n",
        "  ax[3].plot(range(len(y_pred_NN_rMSE)), y_test_hodlout, '-o', color='darkorange', label='Actual Values', linewidth = 1);\n",
        "  ax[3].set_title(\"Predicted vs Actuals Using Best model rMSE NN \" + str(solver.name))\n",
        "  ax[3].legend(loc='best')\n",
        "\n",
        "  ax[4].plot(range(len(y_pred_NN_R2)), y_pred_NN_R2, '-s', color='navy', label='Predicted Values', linewidth = 1);\n",
        "  ax[4].plot(range(len(y_pred_NN_R2)), y_test_hodlout, '-o', color='darkorange', label='Actual Values', linewidth = 1);\n",
        "  ax[4].set_title(\"Predicted vs Actuals Using Best model R2 NN \" + str(solver.name))\n",
        "  ax[4].legend(loc='best')\n",
        "\n",
        "  ax[5].plot(range(len(y_pred_NN_MAE)), y_pred_NN_MAE, '-s', color='navy', label='Predicted Values', linewidth = 1);\n",
        "  ax[5].plot(range(len(y_pred_NN_MAE)), y_test_hodlout, '-o', color='darkorange', label='Actual Values', linewidth = 1);\n",
        "  ax[5].set_title(\"Predicted vs Actuals Using Best model MAE NN \" + str(solver.name))\n",
        "  ax[5].legend(loc='best')  \n",
        "  if(saveToFile == True):\n",
        "      createFolderIfDoesntExist(\"LINE_PLOT_6/\")\n",
        "      plt.savefig('LINE_PLOT_6/'+\"PLOT_RESULT\"+\".png\", dpi = 300)"
      ]
    },
    {
      "cell_type": "code",
      "execution_count": null,
      "metadata": {
        "id": "S7z2Rorto6Bx"
      },
      "outputs": [],
      "source": [
        "def plotPredicted(rMSE, R2, MAE):\n",
        "  plt.figure(figsize=(10, 5))\n",
        "  ax1 = plt.subplot(311, title ='Price ICO 0x, modum and crypto20 using best model rMSE')\n",
        "  ax1.hist(rMSE)\n",
        "  ax2 = plt.subplot(312,sharex=ax1, title ='Price ICO 0x, modum and crypto20 using best model R2')\n",
        "  ax2.hist(R2)\n",
        "  ax3 = plt.subplot(313,sharex=ax1, title ='Price ICO 0x, modum and crypto20 using best model MAE')\n",
        "  ax3.hist(MAE)\n",
        "  plt.tight_layout()"
      ]
    },
    {
      "cell_type": "code",
      "execution_count": null,
      "metadata": {
        "id": "5P2RehLjhVxq"
      },
      "outputs": [],
      "source": [
        "def printPlotCoef(feauteNames, model):\n",
        "    d = model.coef_[0:12]\n",
        "    print(\"Coefficient: \", d)\n",
        "    print(\"Input: \", feauteNames) \n",
        "    data = { feauteNames[0]: d[0], feauteNames[1]: d[1], feauteNames[2]: d[2], feauteNames[3]: d[3], feauteNames[4]: d[4], feauteNames[5]: d[5], feauteNames[6]: d[6],\n",
        "            feauteNames[7]: d[7], feauteNames[8]: d[8], feauteNames[9]: d[9], feauteNames[10]: d[10], feauteNames[11]: d[11]}  \n",
        "    coef = pd.Series(data)\n",
        "    plt.figure(figsize=(10, 5))\n",
        "    plt.xlim(-1, 1)\n",
        "    plt.ylim(-1, 1)\n",
        "    coef.head(12).plot(kind='bar')\n",
        "    plt.title('Feature Significance')\n",
        "    plt.tight_layout()    "
      ]
    },
    {
      "cell_type": "code",
      "execution_count": null,
      "metadata": {
        "id": "84myX3nwFHZM"
      },
      "outputs": [],
      "source": [
        "def makePrediction(model,example_to_predict):\n",
        "   encoded_x, encodedCategoryArray = encodeSingleElement(x,example_to_predict)\n",
        "   y_pred = model.predict(encoded_x.reshape(1, -1))    \n",
        "   return y_pred"
      ]
    },
    {
      "cell_type": "code",
      "execution_count": null,
      "metadata": {
        "id": "53U1cpjZ5pL1"
      },
      "outputs": [],
      "source": [
        "def getCovarianceMatrixAndPrintScatterPlot(x, y, saveToFile=True):\n",
        "    nrows = x.shape[0] \n",
        "    ncols = x.shape[1]\n",
        "    for i in np.arange(ncols):\n",
        "        corCoef = np.corrcoef(x[:,i], y) \n",
        "        plt.xlabel(featureNames[i])\n",
        "        plt.ylabel(\"Price after 6 months ($) \")\n",
        "        plt.suptitle('Scatter Plot of feature {:s} vs Price after 6 months'.format(featureNames[i]))\n",
        "        corr = \"Correlation Coefficient: \"+str(corCoef[0,1])\n",
        "        plt.title(corr)\n",
        "        plt.scatter(x[:,i], y)\n",
        "        if(saveToFile == True):\n",
        "            exist= createFolderIfDoesntExist(\"IMAGE_SCATTER/\")\n",
        "            plt.savefig('IMAGE_SCATTER/{:s}_vs_Price_scatter_plot.png'.format(featureNames[i]), dpi = 300)                    \n",
        "            plt.show()\n",
        "        \n",
        "        plt.clf() "
      ]
    },
    {
      "cell_type": "markdown",
      "metadata": {
        "id": "uHEiphP5igE4"
      },
      "source": [
        "### **CREATE THE NEED FOLDER**"
      ]
    },
    {
      "cell_type": "markdown",
      "metadata": {
        "id": "HXJh-kMxHy4f"
      },
      "source": [
        "CREATE FOLDER RESULT, IN THIS FOLDER WILL CONTAIN MODELS"
      ]
    },
    {
      "cell_type": "code",
      "execution_count": null,
      "metadata": {
        "colab": {
          "base_uri": "https://localhost:8080/"
        },
        "id": "B9AOLXWDirZI",
        "outputId": "11a9d733-befb-41e5-9e23-07c0bd39ac98"
      },
      "outputs": [],
      "source": [
        "createResultsFolderIfDoesntExist(\"RESULT/\")"
      ]
    },
    {
      "cell_type": "markdown",
      "metadata": {
        "id": "8M3rS88mIJWN"
      },
      "source": [
        "DOWNLOAD DATASET FROM GITHUB"
      ]
    },
    {
      "cell_type": "code",
      "execution_count": null,
      "metadata": {
        "colab": {
          "base_uri": "https://localhost:8080/"
        },
        "id": "ZIjQ36sgoofT",
        "outputId": "e174439d-5761-4af2-a884-bf00b229c888"
      },
      "outputs": [],
      "source": [
        "loadDataFromGithub()"
      ]
    },
    {
      "cell_type": "markdown",
      "metadata": {
        "id": "s6p3SWor5pL5"
      },
      "source": [
        "### **LOADING ICO DATASET INTO VARIABLE**"
      ]
    },
    {
      "cell_type": "code",
      "execution_count": null,
      "metadata": {
        "colab": {
          "base_uri": "https://localhost:8080/"
        },
        "id": "lq_QSnQz_OZE",
        "outputId": "d220902d-1c53-420b-9faf-09ec80bb54d9"
      },
      "outputs": [],
      "source": [
        "(featureNames, x, y, icoNames, data_com) = load_DatasetUsePanDas()"
      ]
    },
    {
      "cell_type": "markdown",
      "metadata": {
        "id": "BqU4VMG-5pMI"
      },
      "source": [
        "### **HỆ SỐ TƯƠNG QUAN GIỮA CÁC INPUT VỚI OUTPUT**\n",
        "Hệ số tương quan thê hiển độ quan hệ tuyến tính giữa 2 biến không phân biệt biến này phụ thuộc biến kia.\n",
        "\n",
        "**Đặc tính:**\n",
        " - Hệ số tương quan không có đơn vị.\n",
        " - Nằm trong khoàng [-1,1].\n",
        "\n",
        "  ![alt text](https://i.imgur.com/72RWtXW.png)\n",
        " - r > 0: Tương quan dương.\n",
        " - r < 0: Tương quan âm.\n",
        " - r = 0: Không tương quan.\n",
        " Đánh giá tương quan giữa 2 biến định lượng.\n",
        "\n",
        " ![alt text](https://i.imgur.com/JpGBUGC.png)\n",
        "\n",
        " "
      ]
    },
    {
      "cell_type": "markdown",
      "metadata": {
        "id": "n4HiF775IQJ0"
      },
      "source": [
        "**Calculate the correlation coefficient between the input and output**"
      ]
    },
    {
      "cell_type": "code",
      "execution_count": null,
      "metadata": {
        "colab": {
          "base_uri": "https://localhost:8080/",
          "height": 1000
        },
        "id": "dOlqn-e95pMK",
        "outputId": "86dd85f7-ffa8-48a0-a7d0-9c10b689d295"
      },
      "outputs": [],
      "source": [
        "getCovarianceMatrixAndPrintScatterPlot(x, y)"
      ]
    },
    {
      "cell_type": "markdown",
      "metadata": {
        "id": "IP5xk4uibrgR"
      },
      "source": [
        "The graph below shows the multicollinearity, specifically the highly correlated inputs, those highly correlated numbers will be highlighted.\n",
        "![alt text](https://i.imgur.com/In7lpb4.png)\n"
      ]
    },
    {
      "cell_type": "markdown",
      "metadata": {
        "id": "AVLnDzFIHwsS"
      },
      "source": [
        "### CORRECTIVE ANALYSIS"
      ]
    },
    {
      "cell_type": "code",
      "execution_count": null,
      "metadata": {
        "colab": {
          "base_uri": "https://localhost:8080/",
          "height": 452
        },
        "id": "5icT6SZJ_Agi",
        "outputId": "753500a4-ca2b-4b84-e2b2-a40977ee93c8"
      },
      "outputs": [],
      "source": [
        "data = pd.DataFrame(data_com, columns= ['price_usd', 'price_btc', 'total_supply', 'market_cap_usd', 'available_supply', 'usd_raised', 'eth_price_launch',\n",
        "                                        'btc_price_launch', 'ico_duration',\n",
        "                                        'month','day','county', 'output'])\n",
        "data.corr(method ='pearson').round(2)"
      ]
    },
    {
      "cell_type": "code",
      "execution_count": null,
      "metadata": {},
      "outputs": [],
      "source": [
        "plt.figure(figsize=(10,8))\n",
        "plot = sns.heatmap(data.corr().round(2), annot=True)\n",
        "plot.set_title(\"The graph shows the full correlation\")\n",
        "plt.show()"
      ]
    },
    {
      "cell_type": "markdown",
      "metadata": {
        "id": "Dv4McsP6Fes4"
      },
      "source": [
        "### **DATA DISTRIBUTION AND ECOLOGY**\n",
        "Use one hot encoding to encode the data fields: ICO Duration, ICO Date, ICO month launched and ICO country."
      ]
    },
    {
      "cell_type": "code",
      "execution_count": null,
      "metadata": {
        "id": "UTcYixh9GRvC"
      },
      "outputs": [],
      "source": [
        "\"\"\"\n",
        "DATA CODE AND CLASSIFICATION AND DATA CLASSIFICATION\n",
        "\"\"\"\n",
        "def encodeData(x):\n",
        "    enc = OneHotEncoder(handle_unknown='error', sparse=False)\n",
        "    # One hot encoding for 4 4 data fields ICO Date, ICO month launched and ICO country.\n",
        "    encodedCategoryArray= enc.fit_transform(x[:,8:12])\n",
        "    # Remove those 4 fields from the dataset.\n",
        "    allInputsExceptCategorical = np.delete(x, np.s_[8:12], axis=1)\n",
        "    encodedX = np.concatenate((allInputsExceptCategorical,encodedCategoryArray),axis=1)\n",
        "    return encodedX\n",
        "\n",
        "def encodeSingleElement(x, sample):\n",
        "    enc = OneHotEncoder(handle_unknown='error', sparse=False)\n",
        "    encodedCategoryArray= enc.fit(x[:,8:12])\n",
        "    allInputsExceptCategorical = np.delete(sample, np.s_[8:12], axis=0)    \n",
        "    encodedCategories  = enc.transform(sample[8:12].reshape(1, -1))\n",
        "    encodedX = np.concatenate((allInputsExceptCategorical,encodedCategories.flatten()),axis=0)\n",
        "    return (encodedX, encodedCategoryArray)"
      ]
    },
    {
      "cell_type": "code",
      "execution_count": null,
      "metadata": {
        "id": "zoGFEDHrGjWw"
      },
      "outputs": [],
      "source": [
        "encodeX = encodeData(x)"
      ]
    },
    {
      "cell_type": "markdown",
      "metadata": {
        "id": "MY1DiR9WAPDO"
      },
      "source": [
        "### **Split DATASET into TRAIN SET AND TEST SET**\n",
        "80% for the training set and 20% for the test set. Then in the training set also divide 80/20 to calculate."
      ]
    },
    {
      "cell_type": "code",
      "execution_count": null,
      "metadata": {
        "id": "eFRK3nGbBOtW"
      },
      "outputs": [],
      "source": [
        "X_cross, X_test_holdout, y_cross, y_test_holdout = train_test_split(encodeX, y, test_size=0.2, random_state = 42)"
      ]
    },
    {
      "cell_type": "markdown",
      "metadata": {
        "id": "EOmTGmYxJ9mR"
      },
      "source": [
        "# **Ridge Regession**\n",
        "\n",
        "---\n",
        "\n",
        "\n",
        "Split the data into 80/20 from the Ridge Regression train set"
      ]
    },
    {
      "cell_type": "code",
      "execution_count": null,
      "metadata": {
        "id": "7w_6ZPTGKOFP"
      },
      "outputs": [],
      "source": [
        "def ridgeRegression(x, y):       \n",
        "    X_train, X_val, y_train, y_val = train_test_split(x, y, test_size=0.2)\n",
        "    regressor_Ridge = linear_model.RidgeCV(gcv_mode='svd', alphas = [0.6, 1.0, 1.1, 1.2, 1.3, 1.4, 1.5, 10],\n",
        "                                            normalize=True)\n",
        "    regressor_Ridge.fit(X_train, y_train)\n",
        "    bestRegressionCoef_Ridge = regressor_Ridge.coef_    \n",
        "    y_pred_Ridge = regressor_Ridge.predict(X_val)    \n",
        "    r2_Ridge = r2_score(y_val, y_pred_Ridge)    \n",
        "    rMeanSquaredError_Ridge = sqrt(mean_squared_error(y_val, y_pred_Ridge))\n",
        "    meanAbsoluteError = mean_absolute_error(y_val, y_pred_Ridge)      \n",
        "    return (regressor_Ridge, rMeanSquaredError_Ridge, r2_Ridge, meanAbsoluteError, bestRegressionCoef_Ridge)"
      ]
    },
    {
      "cell_type": "markdown",
      "metadata": {
        "id": "07x3qnWOKSbA"
      },
      "source": [
        "## **COMPUTER TRAINING ERROR AND TEST ERROR**\n",
        "Find out if the model is overfitting"
      ]
    },
    {
      "cell_type": "code",
      "execution_count": null,
      "metadata": {
        "id": "aWH_Jtw8KYjz"
      },
      "outputs": [],
      "source": [
        "def trainingError(x,y):   \n",
        "    regressor = linear_model.LinearRegression()\n",
        "    regressor.fit(x, y)  \n",
        "    y_pred_training = regressor.predict(x)\n",
        "    trainingError = mean_squared_error(y, y_pred_training)     \n",
        "    return (regressor, trainingError, y_pred_training) "
      ]
    },
    {
      "cell_type": "code",
      "execution_count": null,
      "metadata": {
        "id": "R1M2vt8WO8SW"
      },
      "outputs": [],
      "source": [
        "def testError(x, y, regressor):\n",
        "    y_pred_holdout = regressor.predict(x)    \n",
        "    test_error = mean_squared_error(y, y_pred_holdout)       \n",
        "    return test_error, y_pred_holdout"
      ]
    },
    {
      "cell_type": "markdown",
      "metadata": {
        "id": "-P11J9oiVyp9"
      },
      "source": [
        "#### **OVERFITTING**\n",
        "is a perfect or almost complete match for the train set but is very bad on the test set."
      ]
    },
    {
      "cell_type": "code",
      "execution_count": null,
      "metadata": {
        "colab": {
          "base_uri": "https://localhost:8080/",
          "height": 1000
        },
        "id": "vGU8qX9SV3BX",
        "outputId": "495c706e-4fde-438a-ea31-c1993c6ddfbd"
      },
      "outputs": [],
      "source": [
        "regressor, trainingError, y_pred_training = trainingError(X_cross, y_cross)  \n",
        "test_error, y_pred_holdout = testError(X_test_holdout, y_test_holdout, regressor)\n",
        "print(\"TRAINING ERROR: {:f}\".format(trainingError))\n",
        "heading = \"Training Error: \" + str(trainingError)\n",
        "plotExpectedVsPredictedOutput2(y_cross, y_pred_training, fileName = heading, saveToFile = True)\n",
        "line_plot(y_cross, y_pred_training, title= heading, lw=2)\n",
        "print(\"TEST ERROR: {:f}\".format(test_error))\n",
        "heading = \"Test Error: \" + str(test_error)\n",
        "print(\"Predicted value: \\n \")\n",
        "print(y_pred_holdout)\n",
        "print(\"Actual value: \\n \")\n",
        "print(y_test_holdout)\n",
        "\n",
        "plotExpectedVsPredictedOutput2(y_test_holdout, y_pred_holdout, fileName = heading, saveToFile = True)\n",
        "line_plot(y_test_holdout, y_pred_holdout, title=heading, lw=2)\n",
        "# ICO 0x HAS A PREDICTED VALUE AFTER 6 MONTHS IS 1.08\n",
        "ico_0x= np.array([1.71456, 0.00019931, 1000000000, 905793616, 528295082, 24000000, 297.63, 3420.4, 7, 8, 9, 182])\n",
        "y_pred1 = makePrediction(regressor, ico_0x)\n",
        "print(\"Predicted value ICO 0x (Actual value: 1.08) after 6 months: \", y_pred1)"
      ]
    },
    {
      "cell_type": "markdown",
      "metadata": {
        "id": "9-6rxuocUsRy"
      },
      "source": [
        "## **RESULTS OPTIMIZE FUNCTION**"
      ]
    },
    {
      "cell_type": "code",
      "execution_count": null,
      "metadata": {
        "id": "vuC2acOoUxte"
      },
      "outputs": [],
      "source": [
        "\"\"\"\n",
        "SAVE BEST MODEL\n",
        "\"\"\"\n",
        "def saveBestModel(model,fileName):\n",
        "    exists = os.path.isfile(fileName)    \n",
        "    if exists:    \n",
        "        joblib.load(fileName)\n",
        "    else:\n",
        "        joblib.dump(model, fileName)\n",
        "        return    \n",
        "    \n",
        "    y_pred_holdout_saved_model = joblib.load(fileName).predict(X_test_holdout)\n",
        "    rSquared_saved_model = r2_score(y_test_holdout, y_pred_holdout_saved_model)\n",
        "    rMse_saved_model = sqrt(mean_squared_error(y_test_holdout, y_pred_holdout_saved_model))\n",
        "    mAE_saved_model = mean_absolute_error(y_test_holdout, y_pred_holdout_saved_model)\n",
        "    \n",
        "   \n",
        "    y_pred_holdout_new_model = model.predict(X_test_holdout)\n",
        "    rSquared_new_model = r2_score(y_test_holdout, y_pred_holdout_new_model)\n",
        "    rMse_new_model = sqrt(mean_squared_error(y_test_holdout, y_pred_holdout_new_model))\n",
        "    mAE_new_model = mean_absolute_error(y_test_holdout, y_pred_holdout_new_model)\n",
        "    \n",
        "    if(str(LineaReggressionMetrics.ROOT_MEAN_SQUARED_ERROR.name) in fileName):\n",
        "        if(rMse_new_model < rMse_saved_model):\n",
        "            joblib.dump(model, fileName) \n",
        "    elif(str(LineaReggressionMetrics.MEAN_ABSOLUTE_ERROR.name) in fileName):\n",
        "        if(mAE_new_model < mAE_saved_model):\n",
        "            joblib.dump(model, fileName) \n",
        "    else:\n",
        "        if(rSquared_new_model > rSquared_saved_model and rSquared_new_model < 1):\n",
        "            joblib.dump(model, fileName)  "
      ]
    },
    {
      "cell_type": "code",
      "execution_count": null,
      "metadata": {
        "id": "F26Gc74oWDD5"
      },
      "outputs": [],
      "source": [
        "def Optimize(metricToOptimize, numIterations, x, y, showOutput = True):\n",
        "     \n",
        "    # VALUE R2, rMSE, MAE OF RIDGE REGRESSION\n",
        "    maxRSquared_Ridge = -10000\n",
        "    rMSEMin_Ridge = 10000\n",
        "    meanABError_min = 10000   \n",
        "\n",
        "    crossValidationMeanSquaredError = 1\n",
        "    crossValidationMeanAbsoluteError = 1\n",
        "    crossValidationR2Squared = 1\n",
        "    bestRidgeModel = None \n",
        "\n",
        "    plotrMSE = []\n",
        "    plotR2 = []\n",
        "    plotMAE = []  \n",
        "\n",
        "    # HỆ SỐ HỒI QUY KHI SỬ DỤNG HỒI QUY RIDGE    \n",
        "    bestRegressionCoef_temp_Ridge = np.array([])\n",
        "    bestRegressionCoef_rMSE_Ridge = np.array([])\n",
        "    bestRegressionCoef_R2_Ridge = np.array([])\n",
        "    bestRegressionCoef_MAE_Ridge = np.array([])    \n",
        "\n",
        "    for i in np.arange(numIterations):\n",
        "        bestRegression_Ridge, rootMeanSquaredError_Ridge, rSquared_Ridge, meanAbsoluteError, bestRegressionCoef_temp_Ridge  = ridgeRegression(x, y)\n",
        "              \n",
        "#       TÌM GIÁ TRỊ rMSE TỐT NHẤT\n",
        "        if(metricToOptimize == LineaReggressionMetrics.ROOT_MEAN_SQUARED_ERROR):\n",
        "            if(rootMeanSquaredError_Ridge < rMSEMin_Ridge):\n",
        "                rMSEMin_Ridge = rootMeanSquaredError_Ridge              \n",
        "                crossValidationMeanSquaredError = rootMeanSquaredError_Ridge\n",
        "                plotrMSE.append(rootMeanSquaredError_Ridge)               \n",
        "                bestRegressionCoef_rMSE_Ridge = bestRegressionCoef_temp_Ridge \n",
        "                bestRidgeModel = bestRegression_Ridge\n",
        "            if(showOutput):\n",
        "                print(i,\" bestrMSE: \", rMSEMin_Ridge)\n",
        "\n",
        "        elif(metricToOptimize == LineaReggressionMetrics.MEAN_ABSOLUTE_ERROR):\n",
        "            if(meanAbsoluteError < meanABError_min):\n",
        "                meanABError_min = meanAbsoluteError\n",
        "                plotMAE.append(meanAbsoluteError)                             \n",
        "                bestRegressionCoef_MAE_Ridge = bestRegressionCoef_temp_Ridge\n",
        "                crossValidationMeanAbsoluteError = meanAbsoluteError\n",
        "                bestRidgeModel = bestRegression_Ridge                   \n",
        "            if(showOutput):\n",
        "                print(i,\" bestrMAE: \", meanABError_min)                      \n",
        "#      Tìm GIÁ TRỊ R2 TỐT NHẤT\n",
        "        else:\n",
        "            if(rSquared_Ridge > maxRSquared_Ridge and rSquared_Ridge > 0):\n",
        "                maxRSquared_Ridge = rSquared_Ridge               \n",
        "                bestRegressionCoef_R2_Ridge = bestRegressionCoef_temp_Ridge\n",
        "                plotR2.append(rSquared_Ridge)  \n",
        "                crossValidationR2Squared = rSquared_Ridge\n",
        "                bestRidgeModel = bestRegression_Ridge                  \n",
        "            if(showOutput):\n",
        "                print(i,\"bestRSquared:\",maxRSquared_Ridge)   \n",
        "   \n",
        "   \n",
        "          \n",
        "    if(metricToOptimize == LineaReggressionMetrics.ROOT_MEAN_SQUARED_ERROR):\n",
        "        print(\" \\n Best rMSE: {:f} \\n ,after running linear regression {:d} different times with different test and training combinations\"\n",
        "              .format(rMSEMin_Ridge,numIterations))\n",
        "        print(\"Value alpha: \", bestRidgeModel.alpha_)     \n",
        "        line_plot2(plotrMSE, title='Optimize value rMSE on validation data', \n",
        "                   label1='rMSE')      \n",
        "        \n",
        "    elif(metricToOptimize == LineaReggressionMetrics.MEAN_ABSOLUTE_ERROR):\n",
        "        print(\" \\n Best MAE: {:f} \\n ,after running linear regression {:d} different times with different test and training combinations\"\n",
        "              .format(meanABError_min,numIterations))\n",
        "        print(\"Value alpha: \", bestRidgeModel.alpha_)    \n",
        "        line_plot2(plotMAE, title='Optimize value MAE on validation data',\n",
        "                    label1='MAE')    \n",
        "    else: \n",
        "       print(\" \\n Best RSquared: {:f} \\n ,after running linear regression {:d} different times with different test and training combinations\"\n",
        "              .format(maxRSquared_Ridge,numIterations))\n",
        "       print(\"Value alpha: \", bestRidgeModel.alpha_)    \n",
        "       line_plot2(plotR2, title='Optimize value R2 on validation data', \n",
        "                   label1='R2')   \n",
        "     \n",
        "    if(showOutput):\n",
        "        print(\" \\n Best regression coef rMSE: \", bestRegressionCoef_rMSE_RG,\"\\n\")\n",
        "        print(\" \\n Best regression coef R2: \", bestRegressionCoef_R2_RG,\"\\n\")\n",
        "        print(\" \\n Best regression coef MAE: \", bestRegressionCoef_MAE_Ridge,\"\\n\")\n",
        "    \n",
        "    fileName_Ridge = \"RESULT/\" + \"bestRegressionModel_Ridge_\" + str(metricToOptimize.name) + \".sav\"   \n",
        "    saveBestModel(bestRidgeModel, fileName_Ridge)   "
      ]
    },
    {
      "cell_type": "code",
      "execution_count": null,
      "metadata": {
        "id": "rwJt2qYNOWb5"
      },
      "outputs": [],
      "source": [
        "ico_0x = np.array([1.71456, 0.00019931, 1000000000, 905793616, 528295082, 24000000, 297.63, 3420.4, 7, 8, 9, 182])\n",
        "ico_modum = np.array([2.36319, 0.00027471, 27266200, 43166501, 18266200, 13500000, 383.47, 4701.76, 21, 9, 1, 33])\n",
        "ico_crypto20 = np.array([1.68825, 0.00019625, 40656082, 66992446, 39681591, 38222081, 308.89, 4369.35, 54, 10, 7, 196])\n",
        "def Optimize2(numIterations, x, y):\n",
        "    for i in np.arange(numIterations):\n",
        "        bestRegression_Ridge, rootMeanSquaredError_Ridge, rSquared_Ridge, meanAbsoluteError, bestRegressionCoef_temp_Ridge  = ridgeRegression(x, y)\n",
        "        y_pred_ico0x = makePrediction(bestRegression_Ridge, ico_0x)\n",
        "        y_pred_modum = makePrediction(bestRegression_Ridge, ico_modum)\n",
        "        y_pred_crypto20 = makePrediction(bestRegression_Ridge, ico_crypto20)\n",
        "        y_pred_holdout = bestRegression_Ridge.predict(X_test_holdout) \n",
        "        rMSE_holdout = sqrt(mean_squared_error(y_test_holdout, y_pred_holdout))\n",
        "        r2_holdout = r2_score(y_test_holdout, y_pred_holdout)\n",
        "        holdout_MAE = mean_absolute_error(y_test_holdout, y_pred_holdout)\n",
        "        print(\"TIME: \",i)\n",
        "        print(\"Price ICO 0x (REAL: 1.08): \", y_pred_ico0x)\n",
        "        print(\"Price ICO modum (REAL: 2.79): \", y_pred_modum)\n",
        "        print(\"Price ICO crypto20 (REAL: 0.9876): \", y_pred_crypto20)\n",
        "        print(\"Value rMSE: \", rMSE_holdout)\n",
        "        print(\"Value R2: \", r2_holdout)\n",
        "        print(\"Value MAE: \", holdout_MAE)\n",
        "        print(\"**********************************************************************************\")\n",
        "        print(\"\\n\")"
      ]
    },
    {
      "cell_type": "markdown",
      "metadata": {
        "id": "hREoIIfbk7SV"
      },
      "source": [
        "## **COMPARATES BETWEEN RIDGE REVOLUTION AND MULTI-Variable Regression**\n",
        "After running the combination of 10000 different times with the training set"
      ]
    },
    {
      "cell_type": "code",
      "execution_count": null,
      "metadata": {
        "colab": {
          "base_uri": "https://localhost:8080/",
          "height": 658
        },
        "id": "oxl7dRkBlZTk",
        "outputId": "30b16b10-268d-440e-8719-f322c6524395"
      },
      "outputs": [],
      "source": [
        "n = 10000\n",
        "showOutput = False\n",
        "saveToFile = False\n",
        "Optimize(LineaReggressionMetrics.ROOT_MEAN_SQUARED_ERROR, n , X_cross, y_cross, showOutput)"
      ]
    },
    {
      "cell_type": "code",
      "execution_count": null,
      "metadata": {
        "colab": {
          "base_uri": "https://localhost:8080/",
          "height": 624
        },
        "id": "fgWEPtmQQKiV",
        "outputId": "1fc415ba-7392-4841-d0e4-9404f8f4915c"
      },
      "outputs": [],
      "source": [
        "n = 10000\n",
        "Optimize(LineaReggressionMetrics.R_SQUARED, n, X_cross, y_cross, showOutput)\n",
        "#  https://stats.stackexchange.com/questions/12900/when-is-r-squared-negative"
      ]
    },
    {
      "cell_type": "code",
      "execution_count": null,
      "metadata": {
        "colab": {
          "base_uri": "https://localhost:8080/"
        },
        "id": "s9F21ITghzKr",
        "outputId": "1364a49c-0e99-4260-d663-53b0b364ea7f"
      },
      "outputs": [],
      "source": [
        "n = 10000\n",
        "Optimize(LineaReggressionMetrics.MEAN_ABSOLUTE_ERROR, n, X_cross, y_cross, showOutput)"
      ]
    },
    {
      "cell_type": "markdown",
      "metadata": {
        "id": "eV-J4OwCPVIM"
      },
      "source": [
        "Compare the two approaches:\n",
        "- Find the optimal model for each parameter rMSE, R2, MAE.\n",
        "- Go get the model when training to predict and see which value is closest to reality, then choose and then deduce 3 optimal values."
      ]
    },
    {
      "cell_type": "code",
      "execution_count": null,
      "metadata": {
        "colab": {
          "base_uri": "https://localhost:8080/"
        },
        "id": "-CfWvpCDT0w0",
        "outputId": "9e3c621d-6c1a-465a-8f42-cd81ee1ecf81"
      },
      "outputs": [],
      "source": [
        "Optimize2(100, X_cross, y_cross)"
      ]
    },
    {
      "cell_type": "markdown",
      "metadata": {
        "id": "suKjjEQGyayt"
      },
      "source": [
        "### **LOAD SAVE MODEL AND DRAW CHART**"
      ]
    },
    {
      "cell_type": "code",
      "execution_count": null,
      "metadata": {
        "colab": {
          "base_uri": "https://localhost:8080/",
          "height": 1000
        },
        "id": "HLTO3WUTygop",
        "outputId": "d4394a23-321d-4223-88fe-6028433dec0a"
      },
      "outputs": [],
      "source": [
        "# LOAD MODEL USING RIDGE - rMSE\n",
        "fileName1 = \"RESULT/\" + \"bestRegressionModel_Ridge_\" + str(LineaReggressionMetrics.ROOT_MEAN_SQUARED_ERROR.name) + \".sav\"\n",
        "bestRegression_rMSE_Ridge = loadModel(fileName1)\n",
        "saveToFile = True\n",
        "y_pred_holdout_rMSE = []\n",
        "y_pred_holdout_R2 = []\n",
        "y_pred_holdout_MAE = []\n",
        "\n",
        "holdOutMeanSquaredError = 0.0\n",
        "holdOutValidationR2Squared = 0.0\n",
        "holdOutMeanABError = 0.0\n",
        "\n",
        "if(bestRegression_rMSE_Ridge):\n",
        "    y_pred_holdout_rMSE = bestRegression_rMSE_Ridge.predict(X_test_holdout)  \n",
        "    holdOutMeanSquaredError = sqrt(mean_squared_error(y_test_holdout, y_pred_holdout_rMSE))\n",
        "    print(\"Predicted value when using best model rMSE: \")\n",
        "    print(y_pred_holdout_rMSE)   \n",
        "    print(\"Actual value: \")\n",
        "    print(y_test_holdout)\n",
        "    heading = \"Best_rMSE_Ridge_Regression_\" + str(holdOutMeanSquaredError)\n",
        "    plotExpectedVsPredictedOutput2(y_test_holdout, y_pred_holdout_rMSE, heading, saveToFile)\n",
        "    #plotExpectedVsPredictedOutput(y_test_holdout, y_pred_holdout_rMSE, heading, saveToFile)\n",
        "    line_plot(y_test_holdout, y_pred_holdout_rMSE, title=heading, lw=2)\n",
        "    print(\"Regression coefficient when using best model rMSE: \")  \n",
        "    print(bestRegression_rMSE_Ridge.coef_)\n",
        "    print(\"************************************************************************************************\")\n",
        "    print(\"\\n\")\n",
        "\n",
        "# LOAD MODEL USING RIDGE - R2\n",
        "fileName3 = \"RESULT/\" + \"bestRegressionModel_Ridge_\" + str(LineaReggressionMetrics.R_SQUARED.name) + \".sav\"\n",
        "bestRegression_rSquared_Ridge = loadModel(fileName3)\n",
        "\n",
        "if(bestRegression_rSquared_Ridge):\n",
        "    y_pred_holdout_R2 = bestRegression_rSquared_Ridge.predict(X_test_holdout)   \n",
        "    holdOutValidationR2Squared = r2_score(y_test_holdout, y_pred_holdout_R2)\n",
        "    print(\"Predicted value when using best model R2: \")\n",
        "    print(y_pred_holdout_R2)\n",
        "    print(\"Actual value: \")\n",
        "    print(y_test_holdout)\n",
        "    heading = \"Best_rRSquared_Ridge_Regression_\" + str(holdOutValidationR2Squared)\n",
        "    plotExpectedVsPredictedOutput2(y_test_holdout, y_pred_holdout_R2,heading, saveToFile)\n",
        "    #plotExpectedVsPredictedOutput(y_test_holdout, y_pred_holdout_R2,heading, saveToFile)\n",
        "    line_plot(y_test_holdout, y_pred_holdout_R2, title=heading, lw=2)\n",
        "    print(\"Regression coefficient when using best model R2: \")\n",
        "    print(bestRegression_rSquared_Ridge.coef_) \n",
        "    print(\"************************************************************************************************\")\n",
        "    print(\"\\n\")\n",
        "\n",
        "fileName4 = \"RESULT/\" + \"bestRegressionModel_Ridge_\" + str(LineaReggressionMetrics.MEAN_ABSOLUTE_ERROR.name) + \".sav\"\n",
        "bestRegression_MAE_Ridge = loadModel(fileName4)\n",
        "\n",
        "if(bestRegression_MAE_Ridge):\n",
        "    y_pred_holdout_MAE = bestRegression_MAE_Ridge.predict(X_test_holdout)   \n",
        "    holdOutMeanABError = mean_absolute_error(y_test_holdout, y_pred_holdout_MAE)\n",
        "    print(\"Predicted value when using best model MAE: \")\n",
        "    print(y_pred_holdout_MAE)\n",
        "    print(\"Actual value: \")\n",
        "    print(y_test_holdout)\n",
        "    heading = \"Best_MAE_Ridge_Regression_\" + str(holdOutMeanABError)\n",
        "    plotExpectedVsPredictedOutput2(y_test_holdout,y_pred_holdout_MAE,heading,saveToFile)\n",
        "    #plotExpectedVsPredictedOutput(y_test_holdout,y_pred_holdout_MAE,heading,saveToFile)\n",
        "    line_plot(y_test_holdout, y_pred_holdout_MAE, title=heading, lw=2)    \n",
        "    print(\"Regression coefficient when using best model MAE: \")\n",
        "    print(bestRegression_rSquared_Ridge.coef_)\n",
        "\n",
        "plotResult(y_test_holdout, y_pred_holdout_rMSE, y_pred_holdout_R2, y_pred_holdout_MAE, rMSE = str(holdOutMeanSquaredError), \n",
        "           R2 = str(holdOutValidationR2Squared), MAE = str(holdOutMeanABError))"
      ]
    },
    {
      "cell_type": "markdown",
      "metadata": {
        "id": "9Il9yyQ9rKNe"
      },
      "source": [
        "## **Using MODEL FOR PROJECT - VALUE OF ICO AFTER 6 MONTHS**"
      ]
    },
    {
      "cell_type": "code",
      "execution_count": null,
      "metadata": {
        "colab": {
          "base_uri": "https://localhost:8080/"
        },
        "id": "KfhaxGtUrRgF",
        "outputId": "89c617ac-d30e-4eee-92cc-7d1ef3d37837"
      },
      "outputs": [],
      "source": [
        "# LOAD MODEL WITH rMSE VALUE IS THE BEST\n",
        "fileName1 = \"RESULT/\" + \"bestRegressionModel_Ridge_\" + str(LineaReggressionMetrics.ROOT_MEAN_SQUARED_ERROR.name) + \".sav\"\n",
        "bestRegression_rMSE_Ridge = joblib.load(fileName1)\n",
        "price_rMSE = []\n",
        "price_R2 = []\n",
        "price_MAE = []\n",
        "#price_usd,price_btc,total_supply,market_cap_usd,available_supply,usd_raised,eth_price_launch,btc_price_launch,ico_duration,month,day,country\n",
        "ico_0x = np.array([1.71456, 0.00019931, 1000000000, 905793616, 528295082, 24000000, 297.63, 3420.4, 7, 8, 9, 182])\n",
        "ico_modum = np.array([2.36319, 0.00027471, 27266200, 43166501, 18266200, 13500000, 383.47, 4701.76, 21, 9, 1, 33])\n",
        "ico_crypto20 = np.array([1.68825, 0.00019625, 40656082, 66992446, 39681591, 38222081, 308.89, 4369.35, 54, 10, 7, 196])\n",
        "ico_wanchin = np.array([6.71639, 0.00078075, 210000000, 712961540, 106152493, 35704520, 297.48, 4408.46, 1, 10, 3, 182])\n",
        "y_pred1 = makePrediction(bestRegression_rMSE_Ridge, ico_0x)\n",
        "y_pred2 = makePrediction(bestRegression_rMSE_Ridge, ico_modum)\n",
        "y_pred3 = makePrediction(bestRegression_rMSE_Ridge, ico_crypto20)\n",
        "price_rMSE.append(y_pred1)\n",
        "price_rMSE.append(y_pred2)\n",
        "price_rMSE.append(y_pred3)\n",
        "y_pred_holdout_rMSE = bestRegression_rMSE_Ridge.predict(X_test_holdout) \n",
        "rMSE_holdout = sqrt(mean_squared_error(y_test_holdout, y_pred_holdout_rMSE))\n",
        "r2_holdout = r2_score(y_test_holdout, y_pred_holdout_rMSE)\n",
        "holdout_MAE  = mean_absolute_error(y_test_holdout, y_pred_holdout_rMSE)\n",
        "print(\"Price of 3 ICO when using best mode rMSE\")\n",
        "print(\"Predicted value of ICO 0x (real price: 1.08) after 6 months: \",y_pred1)\n",
        "print(\"Predicted value of ICO modum (real price: 2.79) after 6 months: \",y_pred2)\n",
        "print(\"Predicted value of ICO crypto20 (real price: 0.9786) after 6 months: \",y_pred3)\n",
        "print(\"Value rMSE, R2, MAE of best model rMSE\")\n",
        "print(\"Value rMSE: \", rMSE_holdout)\n",
        "print(\"Value R2: \", r2_holdout)\n",
        "print(\"Value MAE: \", holdout_MAE)\n",
        "print(\"*******************************************************************************************\")\n",
        "print(\"\\n\")\n",
        "\n",
        "# LOAD MODEL WITH R2 VALUE IS THE BEST\n",
        "fileName2 = \"RESULT/\" + \"bestRegressionModel_Ridge_\" + str(LineaReggressionMetrics.R_SQUARED.name) + \".sav\"\n",
        "bestRegression_rSquared_Ridge = joblib.load(fileName2)\n",
        "y_pred4 = makePrediction(bestRegression_rSquared_Ridge, ico_0x)\n",
        "y_pred5 = makePrediction(bestRegression_rSquared_Ridge, ico_modum)\n",
        "y_pred6 = makePrediction(bestRegression_rSquared_Ridge, ico_crypto20)\n",
        "price_R2.append(y_pred4)\n",
        "price_R2.append(y_pred5)\n",
        "price_R2.append(y_pred6)\n",
        "y_pred_holdout_R2 = bestRegression_rSquared_Ridge.predict(X_test_holdout) \n",
        "rMSE_holdout = sqrt(mean_squared_error(y_test_holdout, y_pred_holdout_R2))\n",
        "r2_holdout = r2_score(y_test_holdout, y_pred_holdout_R2)\n",
        "holdout_MAE  = mean_absolute_error(y_test_holdout, y_pred_holdout_R2)\n",
        "print(\"Price of 3 ICO when using best mode R2\")\n",
        "print(\"Predicted value of ICO 0x (real price: 1.08) after 6 months: \",y_pred4)\n",
        "print(\"Predicted value of ICO modum (real price: 2.79) after 6 months: \",y_pred5)\n",
        "print(\"Predicted value of ICO crypto20 (real price: 0.9786) after 6 months: \",y_pred6)\n",
        "print(\"Value rMSE, R2, MAE of best model R2\")\n",
        "print(\"Value rMSE: \", rMSE_holdout)\n",
        "print(\"Value R2: \", r2_holdout)\n",
        "print(\"Value MAE: \", holdout_MAE)\n",
        "print(\"*******************************************************************************************\")\n",
        "print(\"\\n\")\n",
        "\n",
        "# LOAD MODEL WITH THE BEST MAE VALUE\n",
        "fileName3 = \"RESULT/\" + \"bestRegressionModel_Ridge_\" + str(LineaReggressionMetrics.MEAN_ABSOLUTE_ERROR.name) + \".sav\"\n",
        "bestRegression_MAE_Ridge = joblib.load(fileName3)\n",
        "y_pred7 = makePrediction(bestRegression_MAE_Ridge, ico_0x)\n",
        "y_pred8 = makePrediction(bestRegression_MAE_Ridge, ico_modum)\n",
        "y_pred9 = makePrediction(bestRegression_MAE_Ridge, ico_crypto20)\n",
        "price_MAE.append(y_pred7)\n",
        "price_MAE.append(y_pred8)\n",
        "price_MAE.append(y_pred9)\n",
        "y_pred_holdout_MAE = bestRegression_MAE_Ridge.predict(X_test_holdout) \n",
        "rMSE_holdout = sqrt(mean_squared_error(y_test_holdout, y_pred_holdout_MAE))\n",
        "r2_holdout = r2_score(y_test_holdout, y_pred_holdout_MAE)\n",
        "holdout_MAE  = mean_absolute_error(y_test_holdout, y_pred_holdout_MAE)\n",
        "print(\"Price of 3 ICO when using best mode MAE\")\n",
        "print(\"Predicted value of ICO 0x (real price: 1.08) after 6 months: \",y_pred7)\n",
        "print(\"Predicted value of ICO modum (real price: 2.79) after 6 months: \",y_pred8)\n",
        "print(\"Predicted value of ICO crypto20 (real price: 0.9786) after 6 months: \",y_pred9)\n",
        "print(\"Value rMSE, R2, MAE of best model MAE\")\n",
        "print(\"Value rMSE: \", rMSE_holdout)\n",
        "print(\"Value R2: \", r2_holdout)\n",
        "print(\"Value MAE: \", holdout_MAE)\n",
        "print(\"*******************************************************************************************\")\n",
        "print(\"\\n\")\n",
        "plotPredicted(price_rMSE, price_R2, price_MAE)"
      ]
    },
    {
      "cell_type": "markdown",
      "metadata": {
        "id": "Vex2CK2SiVxK"
      },
      "source": [
        "# **Neural Network**"
      ]
    },
    {
      "cell_type": "markdown",
      "metadata": {
        "id": "frAxYV5qitWs"
      },
      "source": [
        "Functions used to run NN with many different configurations."
      ]
    },
    {
      "cell_type": "code",
      "execution_count": null,
      "metadata": {
        "id": "393W7Ymei2yq"
      },
      "outputs": [],
      "source": [
        "class Activations(Enum):\n",
        "    identity = 1\n",
        "    logistic = 2\n",
        "    tanh    = 3\n",
        "    relu = 4\n"
      ]
    },
    {
      "cell_type": "code",
      "execution_count": null,
      "metadata": {
        "id": "tKyuVbtMjDr9"
      },
      "outputs": [],
      "source": [
        "## SAVE MODEL IF THE MODEL IS BETTER THAN THE BEFORE SAVE MODEL\n",
        "def saveBestModelNN(model, fileName):\n",
        "    exists = os.path.isfile(fileName)\n",
        "    if exists:    \n",
        "        # LOAD SAVE MODEL\n",
        "        bestSavedNNModel = joblib.load(fileName)\n",
        "    else:\n",
        "        # SAVE CURRENT MODEL\n",
        "        joblib.dump(model, fileName)\n",
        "        return\n",
        "    y_pred_holdout_saved_model = bestSavedNNModel.predict(X_test_holdout)\n",
        "    rSquared_saved_model = r2_score(y_test_holdout, y_pred_holdout_saved_model)\n",
        "    rMse_saved_model = sqrt(mean_squared_error(y_test_holdout, y_pred_holdout_saved_model))\n",
        "    mAE_saved_model = mean_absolute_error(y_test_holdout, y_pred_holdout_saved_model)\n",
        "    \n",
        "    y_pred_holdout_new_model = model.predict(X_test_holdout)\n",
        "    rSquared_new_model = r2_score(y_test_holdout, y_pred_holdout_new_model)\n",
        "    rMse_new_model = sqrt(mean_squared_error(y_test_holdout, y_pred_holdout_new_model))\n",
        "    mAE_new_model = mean_absolute_error(y_test_holdout, y_pred_holdout_new_model)  \n",
        "    \n",
        "    if(str(LineaReggressionMetrics.ROOT_MEAN_SQUARED_ERROR.name) in fileName):\n",
        "        if(rMse_new_model < rMse_saved_model):\n",
        "            joblib.dump(model, fileName) \n",
        "    elif(str(LineaReggressionMetrics.MEAN_ABSOLUTE_ERROR.name) in fileName):\n",
        "        if(mAE_new_model < mAE_saved_model):\n",
        "           joblib.dump(model, fileName)  \n",
        "    else:\n",
        "        if(rSquared_new_model > rSquared_saved_model and rSquared_new_model > 0):\n",
        "            joblib.dump(model, fileName)   \n"
      ]
    },
    {
      "cell_type": "code",
      "execution_count": null,
      "metadata": {
        "id": "cJ8AnrwzkJsf"
      },
      "outputs": [],
      "source": [
        "# runNN FUNCTION TO CALCULATE AND RETURN VALUES R2, rMSE, model, y_val are validation\n",
        "def runNN(x_input, y_input, hidden_layer_size, chosen_solver, chosen_activation):\n",
        "    X_train, X_val, y_train, y_val = train_test_split(x_input, y_input, test_size = 0.2, random_state = 0)\n",
        "\n",
        "    mlp = MLPRegressor(hidden_layer_sizes=(hidden_layer_size, hidden_layer_size, hidden_layer_size), max_iter= 60000, \n",
        "                       activation=chosen_activation, solver=chosen_solver, learning_rate='adaptive', tol=0.001)\n",
        "    mlp.fit(X_train, y_train)\n",
        "    y_pred = mlp.predict(X_val)  \n",
        "\n",
        "    R2coefficient = r2_score(y_val, y_pred)\n",
        "    rMeanSquaredError = sqrt(mean_squared_error(y_val, y_pred))\n",
        "    meanAbsoluteError = mean_squared_error(y_val, y_pred)\n",
        "    \n",
        "    return R2coefficient, rMeanSquaredError, meanAbsoluteError, mlp"
      ]
    },
    {
      "cell_type": "code",
      "execution_count": null,
      "metadata": {
        "id": "PyNtfo9LOank"
      },
      "outputs": [],
      "source": [
        "def runNeuralNetOptimizer(metricToOptimize, x_input, y_input, maxIterations, maxHiddenLayerSize, activation, solver, hiddenLayerStepSize=100, showOutput=False):\n",
        "    bestNeuralNetworkModel = None \n",
        "    minrMSE = 10000\n",
        "    maxR2coefficient = -10000\n",
        "    minMAE = 10000\n",
        "    plotrMSE = []\n",
        "    plotR2 = []\n",
        "    plotMAE = []\n",
        " \n",
        "    \n",
        "    # RUN NN WITH DIFFERENT CLASS SIZES \n",
        "    for i in np.arange(maxIterations):\n",
        "             for hidden_layer_size in np.arange(1, maxHiddenLayerSize, hiddenLayerStepSize):               \n",
        "                chosen_activation = activation\n",
        "                chosen_solver = solver\n",
        "                currentR2coefficient, currentrMSE, currentMAE, neuralNetworkModel = runNN(x_input, y_input, hidden_layer_size, chosen_solver, chosen_activation)\n",
        "               \n",
        "                if(metricToOptimize == LineaReggressionMetrics.ROOT_MEAN_SQUARED_ERROR):\n",
        "                    if(minrMSE > currentrMSE ):\n",
        "                        minrMSE = currentrMSE\n",
        "                        minMAE = currentMAE\n",
        "                        maxR2coefficient = currentR2coefficient\n",
        "                        plotrMSE.append(currentrMSE)                        \n",
        "                        bestNeuralNetworkModel = neuralNetworkModel                        \n",
        "                        \n",
        "                elif(metricToOptimize == LineaReggressionMetrics.MEAN_ABSOLUTE_ERROR):\n",
        "                    if(minMAE > currentMAE):\n",
        "                         minrMSE = currentrMSE\n",
        "                         minMAE = currentMAE\n",
        "                         maxR2coefficient = currentR2coefficient \n",
        "                         bestNeuralNetworkModel = neuralNetworkModel\n",
        "                         plotMAE.append(currentMAE)                                          \n",
        "                else:\n",
        "                    if(maxR2coefficient < currentR2coefficient and currentR2coefficient > 0):\n",
        "                         minrMSE = currentrMSE\n",
        "                         minMAE = currentMAE\n",
        "                         maxR2coefficient = currentR2coefficient \n",
        "                         bestNeuralNetworkModel = neuralNetworkModel\n",
        "                         plotR2.append(currentR2coefficient)               \n",
        "                                                  \n",
        "                        \n",
        "    if(bestNeuralNetworkModel):\n",
        "        print(\"Best rMSE for NN, using validation data: \" + str(minrMSE))\n",
        "        print(\"Best rSquared for NN, using validation data: \" + str(maxR2coefficient))\n",
        "        print(\"Best MAE for NN, using validation data: \" + str(minMAE))\n",
        "\n",
        "        #Best values for NN using cross validation\n",
        "        y_pred_holdout = bestNeuralNetworkModel.predict(X_test_holdout)       \n",
        "        if(metricToOptimize == LineaReggressionMetrics.ROOT_MEAN_SQUARED_ERROR):\n",
        "            rMeanSquaredErrorHoldout = sqrt(mean_squared_error(y_test_holdout, y_pred_holdout))\n",
        "            print(\"Best rMSE for NN, using holdout data: \" + str(rMeanSquaredErrorHoldout))\n",
        "            line_plot2(plotrMSE, title='Optimize value rMSE validation data when using solver ' + solver, \n",
        "                   label1='rMSE') \n",
        "        elif(metricToOptimize == LineaReggressionMetrics.R_SQUARED):\n",
        "            R2coefficientHoldout = r2_score(y_test_holdout, y_pred_holdout)\n",
        "            print(\"Best rSquared for NN, using holdout data: \" + str(R2coefficientHoldout))\n",
        "            line_plot2(plotR2, title='Optimize value R2 validation data when using solver ' + solver, \n",
        "                   label1='R2') \n",
        "        else:\n",
        "            meanAbsoluteErrorHoldout= mean_absolute_error(y_test_holdout, y_pred_holdout)\n",
        "            print(\"Best MAE for NN, using holdout data: \" + str(meanAbsoluteErrorHoldout))\n",
        "            line_plot2(plotMAE, title='Optimize value MAE validation data when using solver ' + solver, \n",
        "                   label1='MAE')   \n",
        "        \n",
        "        #Save best model\n",
        "        fileName = \"RESULT/\" + \"bestNNModel_\" + str(metricToOptimize.name) + solver + \".sav\"\n",
        "        saveBestModelNN(bestNeuralNetworkModel,  fileName)"
      ]
    },
    {
      "cell_type": "code",
      "execution_count": null,
      "metadata": {
        "id": "tCnEGDASAggy"
      },
      "outputs": [],
      "source": [
        "def runNeuralNetOptimizations2(x_input, y_input, maxIterations, maxHiddenLayerSize, activation, solver, metricToOptimize, hiddenLayerStepSize=100,showOutput=False):\n",
        "    runNeuralNetOptimizer(metricToOptimize, x_input, y_input, maxIterations, maxHiddenLayerSize, activation, solver, hiddenLayerStepSize,showOutput)"
      ]
    },
    {
      "cell_type": "code",
      "execution_count": null,
      "metadata": {
        "id": "qRWev2qVAprb"
      },
      "outputs": [],
      "source": [
        "maxIterations = 5\n",
        "maxHiddenLayerSize = 1000\n",
        "hiddenLayerStepSize = 100"
      ]
    },
    {
      "cell_type": "code",
      "execution_count": null,
      "metadata": {
        "id": "jlFoTfQTAtHo"
      },
      "outputs": [],
      "source": [
        "def findBestParametersNN(metricToOptimize):\n",
        "    y_preds = np.array([])\n",
        "    rMse = np.array([])\n",
        "    y_actual = np.array([])\n",
        "    \n",
        "    # Using tanh activation function, with Adam Solver\n",
        "    print(\"Using tanh activation function, with Adam Solver\")\n",
        "    runNeuralNetOptimizations2(X_cross, y_cross, maxIterations, maxHiddenLayerSize,\n",
        "                               Activations.tanh.name, Solvers.adam.name, metricToOptimize, hiddenLayerStepSize)\n",
        "    print(\"\\n\")\n",
        "    \n",
        "    # Using tanh activation function, with Gradient Descent Solver\n",
        "    print(\"Using tanh activation function, with Gradient Descent Solver\")\n",
        "    runNeuralNetOptimizations2(X_cross,y_cross, maxIterations, maxHiddenLayerSize,\n",
        "                               Activations.tanh.name, Solvers.sgd.name, metricToOptimize, hiddenLayerStepSize)\n",
        "    print(\"\\n\")\n"
      ]
    },
    {
      "cell_type": "markdown",
      "metadata": {
        "id": "llC-K4yoEPBD"
      },
      "source": [
        "## FIND OUT THE BEST rMSE VALUES"
      ]
    },
    {
      "cell_type": "code",
      "execution_count": null,
      "metadata": {
        "colab": {
          "base_uri": "https://localhost:8080/",
          "height": 1000
        },
        "id": "LZNOVqrT6Kbe",
        "outputId": "ae3cd5c8-f10b-4203-d209-a5551c9ac0df"
      },
      "outputs": [],
      "source": [
        "findBestParametersNN(LineaReggressionMetrics.ROOT_MEAN_SQUARED_ERROR)"
      ]
    },
    {
      "cell_type": "markdown",
      "metadata": {
        "id": "qqJS5s-3EieF"
      },
      "source": [
        "### FIND THE BEST R2 VALUE"
      ]
    },
    {
      "cell_type": "code",
      "execution_count": null,
      "metadata": {
        "colab": {
          "base_uri": "https://localhost:8080/",
          "height": 1000
        },
        "id": "lAGvrYhh7VmP",
        "outputId": "2f951dae-c8b8-429c-b796-dfabacae7a05"
      },
      "outputs": [],
      "source": [
        "findBestParametersNN(LineaReggressionMetrics.R_SQUARED)"
      ]
    },
    {
      "cell_type": "markdown",
      "metadata": {
        "id": "_rIpGYVur3eQ"
      },
      "source": [
        "##TÌM RA GIÁ TRỊ MAE TỐT NHẤT"
      ]
    },
    {
      "cell_type": "code",
      "execution_count": null,
      "metadata": {
        "colab": {
          "base_uri": "https://localhost:8080/",
          "height": 1000
        },
        "id": "vLZh-rPnrzoX",
        "outputId": "02430d6f-df10-4b30-dd38-50312cc6bf81"
      },
      "outputs": [],
      "source": [
        "findBestParametersNN(LineaReggressionMetrics.MEAN_ABSOLUTE_ERROR)"
      ]
    },
    {
      "cell_type": "markdown",
      "metadata": {
        "id": "Fwj99S4cEuJg"
      },
      "source": [
        "## OPTIMIZED LOAD MODEL FOR SAVE AND PERFORMANCE CALCULATION"
      ]
    },
    {
      "cell_type": "markdown",
      "metadata": {
        "id": "1Ih9uKwfQhPq"
      },
      "source": [
        "### PERFORMANCE MODEL WITH SOLVER IS ADAM"
      ]
    },
    {
      "cell_type": "code",
      "execution_count": null,
      "metadata": {
        "colab": {
          "base_uri": "https://localhost:8080/",
          "height": 1000
        },
        "id": "yyJa6McDE5QA",
        "outputId": "1e5b49a5-55f8-4984-beb2-1eb4896ac304"
      },
      "outputs": [],
      "source": [
        "fileName = \"RESULT/\" + \"bestNNModel_\" + str(LineaReggressionMetrics.ROOT_MEAN_SQUARED_ERROR.name) + str(Solvers.adam.name) + \".sav\"\n",
        "bestNNModel_rMse = loadModel(fileName)\n",
        "y_pred_holdout_rMSE_NN = None\n",
        "y_pred_holdout_R2_NN = None\n",
        "y_pred_holdout_MAE_NN = None\n",
        "\n",
        "if(bestNNModel_rMse):\n",
        "    y_pred_holdout_rMSE_NN = bestNNModel_rMse.predict(X_test_holdout)\n",
        "    holdOutMeanSquaredError = sqrt(mean_squared_error(y_test_holdout, y_pred_holdout_rMSE_NN))\n",
        "    heading = \"Best_rMSE_Neural_Networks_\" + str(holdOutMeanSquaredError) + \"_adam\"\n",
        "    print(\"Predicted value when using best model rMSE (NN with Solver is adam): \")\n",
        "    print(y_pred_holdout_rMSE_NN)   \n",
        "    print(\"Actual value: \")\n",
        "    print(y_test_holdout)\n",
        "    line_plot(y_test_holdout, y_pred_holdout_rMSE_NN, title = heading)\n",
        "    plotExpectedVsPredictedOutput2(y_test_holdout, y_pred_holdout_rMSE_NN, heading, saveToFile)\n",
        "\n",
        "## LOAD MOEL TO OPTIMIZED R2\n",
        "fileName = \"RESULT/\" + \"bestNNModel_\" + str(LineaReggressionMetrics.R_SQUARED.name) + str(Solvers.adam.name)+ \".sav\"\n",
        "bestNNModel_rSquared = loadModel(fileName)\n",
        "if(bestNNModel_rSquared):\n",
        "    y_pred_holdout_R2_NN = bestNNModel_rSquared.predict(X_test_holdout)\n",
        "    holdOutValidationR2Squared = r2_score(y_test_holdout, y_pred_holdout_R2_NN)\n",
        "    heading = \"Best_rRSquared_Neural_Networks_\" + str(holdOutValidationR2Squared) + \"_adam\"\n",
        "    print(\"Predicted value when using best model R2 (NN with Solver is adam): \")\n",
        "    print(y_pred_holdout_R2_NN)   \n",
        "    print(\"Actual value: \")\n",
        "    print(y_test_holdout)\n",
        "    line_plot(y_test_holdout, y_pred_holdout_R2_NN, title = heading)\n",
        "    plotExpectedVsPredictedOutput2(y_test_holdout, y_pred_holdout_R2_NN, heading, saveToFile)\n",
        "\n",
        "## LOAD MOEL TO OPTIMIZED MAE\n",
        "fileName = \"RESULT/\" + \"bestNNModel_\" + str(LineaReggressionMetrics.MEAN_ABSOLUTE_ERROR.name) + str(Solvers.adam.name) +\".sav\"\n",
        "bestNNModel_MAE = loadModel(fileName)\n",
        "if(bestNNModel_MAE):\n",
        "    y_pred_holdout_MAE_NN = bestNNModel_MAE.predict(X_test_holdout)\n",
        "    holdOutMeanABError = mean_absolute_error(y_test_holdout, y_pred_holdout_MAE_NN)\n",
        "    heading = \"Best_MAE_Neural_Networks_\" + str(holdOutMeanABError) + \"_adam\"\n",
        "    print(\"Predicted value when using best model MAE (NN with Solver is adam): \")\n",
        "    print(y_pred_holdout_MAE_NN)   \n",
        "    print(\"Actual value: \")\n",
        "    print(y_test_holdout)\n",
        "    line_plot(y_test_holdout, y_pred_holdout_MAE_NN, title = heading)\n",
        "    plotExpectedVsPredictedOutput2(y_test_holdout, y_pred_holdout_MAE_NN, heading, saveToFile)\n",
        "\n",
        "plotResult(y_test_holdout, y_pred_holdout_rMSE_NN, y_pred_holdout_R2_NN, y_pred_holdout_MAE_NN, \n",
        "           rMSE = str(holdOutMeanSquaredError),R2 = str(holdOutValidationR2Squared), MAE = str(holdOutMeanABError))"
      ]
    },
    {
      "cell_type": "markdown",
      "metadata": {
        "id": "KMiqEX_WQokv"
      },
      "source": [
        "### HIỆU NĂNG MODEL SỬ DỤNG SOLVER LÀ SGD"
      ]
    },
    {
      "cell_type": "code",
      "execution_count": null,
      "metadata": {
        "colab": {
          "base_uri": "https://localhost:8080/",
          "height": 1000
        },
        "id": "xYgmQvh6P_8A",
        "outputId": "3ba5a51a-0404-4ce1-cb06-9ef68b37c0cf"
      },
      "outputs": [],
      "source": [
        "fileName = \"RESULT/\" + \"bestNNModel_\" + str(LineaReggressionMetrics.ROOT_MEAN_SQUARED_ERROR.name) + str(Solvers.sgd.name) + \".sav\"\n",
        "bestNNModel_rMse = loadModel(fileName)\n",
        "\n",
        "if(bestNNModel_rMse):\n",
        "    y_pred_holdout_rMSE_NN = bestNNModel_rMse.predict(X_test_holdout)\n",
        "    holdOutMeanSquaredError = sqrt(mean_squared_error(y_test_holdout, y_pred_holdout_rMSE_NN))\n",
        "    heading = \"Best_rMSE_Neural_Networks_\" + str(holdOutMeanSquaredError) + \"_sgd\"\n",
        "    print(\"Predicted value when using best model rMSE (NN with Solver is sgd): \")\n",
        "    print(y_pred_holdout_rMSE_NN)   \n",
        "    print(\"Actual value: \")\n",
        "    print(y_test_holdout)\n",
        "    line_plot(y_test_holdout, y_pred_holdout_rMSE_NN, title = heading)\n",
        "    plotExpectedVsPredictedOutput2(y_test_holdout, y_pred_holdout_rMSE_NN, heading, saveToFile)\n",
        "\n",
        "## LOAD MOEL TO OPTIMIZED R2\n",
        "fileName = \"RESULT/\" + \"bestNNModel_\" + str(LineaReggressionMetrics.R_SQUARED.name) + str(Solvers.sgd.name)+ \".sav\"\n",
        "bestNNModel_rSquared = loadModel(fileName)\n",
        "if(bestNNModel_rSquared):\n",
        "    y_pred_holdout_R2_NN = bestNNModel_rSquared.predict(X_test_holdout)\n",
        "    holdOutValidationR2Squared = r2_score(y_test_holdout, y_pred_holdout_R2_NN)\n",
        "    heading = \"Best_rRSquared_Neural_Networks_\" + str(holdOutValidationR2Squared) + \"_sgd\"\n",
        "    print(\"Predicted value when using best model R2 (NN with Solver is sgd): \")\n",
        "    print(y_pred_holdout_R2_NN)   \n",
        "    print(\"Actual value: \")\n",
        "    print(y_test_holdout)\n",
        "    line_plot(y_test_holdout, y_pred_holdout_R2_NN, title = heading)\n",
        "    plotExpectedVsPredictedOutput2(y_test_holdout, y_pred_holdout_R2_NN, heading, saveToFile)\n",
        "\n",
        "## LOAD MOEL TO OPTIMIZED MAE\n",
        "fileName = \"RESULT/\" + \"bestNNModel_\" + str(LineaReggressionMetrics.MEAN_ABSOLUTE_ERROR.name) + str(Solvers.sgd.name) +\".sav\"\n",
        "bestNNModel_MAE = loadModel(fileName)\n",
        "if(bestNNModel_MAE):\n",
        "    y_pred_holdout_MAE_NN = bestNNModel_MAE.predict(X_test_holdout)\n",
        "    holdOutMeanABError = mean_absolute_error(y_test_holdout, y_pred_holdout_MAE_NN)\n",
        "    heading = \"Best_MAE_Neural_Networks_\" + str(holdOutMeanABError) + \"_sgd\"\n",
        "    print(\"Predicted value when using best model MAE (NN with Solver is sgd): \")\n",
        "    print(y_pred_holdout_MAE_NN)   \n",
        "    print(\"Actual value: \")\n",
        "    print(y_test_holdout)\n",
        "    line_plot(y_test_holdout, y_pred_holdout_MAE_NN, title = heading)\n",
        "    plotExpectedVsPredictedOutput2(y_test_holdout, y_pred_holdout_MAE_NN, heading, saveToFile)\n",
        "\n",
        "plotResult(y_test_holdout, y_pred_holdout_rMSE_NN, y_pred_holdout_R2_NN, y_pred_holdout_MAE_NN, \n",
        "           rMSE = str(holdOutMeanSquaredError),R2 = str(holdOutValidationR2Squared), MAE = str(holdOutMeanABError))"
      ]
    },
    {
      "cell_type": "markdown",
      "metadata": {
        "id": "sP0dq0D3FKDt"
      },
      "source": [
        "## USE MODEL TO FIND THE PRICE AFTER 6 MONTHS"
      ]
    },
    {
      "cell_type": "markdown",
      "metadata": {
        "id": "f6wjv1S-Qa-U"
      },
      "source": [
        "### FORECAST WITH MODEL USING SOLVER ADAM"
      ]
    },
    {
      "cell_type": "code",
      "execution_count": null,
      "metadata": {
        "colab": {
          "base_uri": "https://localhost:8080/",
          "height": 1000
        },
        "id": "b_JK-TQ2FSop",
        "outputId": "e1f3d135-9c03-47f0-82c5-8d96114fec8b"
      },
      "outputs": [],
      "source": [
        "# Load model with best rMse and make prediction\n",
        "plotNNrMSE = []\n",
        "plotNNR2 = []\n",
        "plotNNMAE = []\n",
        "fileName = \"RESULT/\" + \"bestNNModel_\" + str(LineaReggressionMetrics.ROOT_MEAN_SQUARED_ERROR.name) + str(Solvers.adam.name) + \".sav\"\n",
        "bestNN = joblib.load(fileName)\n",
        "\n",
        "fileName1 = \"RESULT/\" + \"bestNNModel_\" + str(LineaReggressionMetrics.R_SQUARED.name) + str(Solvers.adam.name)+ \".sav\"\n",
        "bestNNModel_rS = joblib.load(fileName1)\n",
        "\n",
        "fileName2 = \"RESULT/\" + \"bestNNModel_\" + str(LineaReggressionMetrics.MEAN_ABSOLUTE_ERROR.name) + str(Solvers.adam.name) +\".sav\"\n",
        "bestNNModel_MAE = joblib.load(fileName2)\n",
        "\n",
        "y_pred =  makePrediction(bestNN, ico_0x)\n",
        "y_pred1 = makePrediction(bestNN, ico_modum)\n",
        "y_pred2 = makePrediction(bestNN, ico_crypto20)\n",
        "plotNNrMSE.append(y_pred)\n",
        "plotNNrMSE.append(y_pred1)\n",
        "plotNNrMSE.append(y_pred2)\n",
        "y_pred_holdout = bestNN.predict(X_test_holdout)\n",
        "R2coefficientHoldout = r2_score(y_test_holdout, y_pred_holdout)\n",
        "rMeanSquaredErrorHoldout = sqrt(mean_squared_error(y_test_holdout, y_pred_holdout))\n",
        "meanAbsoluteErrorHoldout= mean_absolute_error(y_test_holdout, y_pred_holdout)\n",
        "print(\"Price of 3 ICO using best model rMSE\")\n",
        "print(\"Predicted value of ICO 0x (real price: 1.08) after 6 months using best model rMSE: \",y_pred)\n",
        "print(\"Predicted value of ICO modum (real price: 2.79) after 6 months using best model rMSE: \",y_pred1)\n",
        "print(\"Predicted value of ICO crypto20 (real price: 0.9786) after 6 months using best model rMSE: \",y_pred2)\n",
        "print(\"Value rMSE, R2, MAE of best model rMSE\")\n",
        "print(\"Value rMSE: \", rMeanSquaredErrorHoldout)\n",
        "print(\"Value R2: \", R2coefficientHoldout)\n",
        "print(\"Value MAE: \", meanAbsoluteErrorHoldout) \n",
        "print(\"\\n\")       \n",
        "print(\"*************************************************************************************\")\n",
        "\n",
        "y_pred3 = makePrediction(bestNNModel_rS, ico_0x)\n",
        "y_pred4 = makePrediction(bestNNModel_rS, ico_modum)\n",
        "y_pred5 = makePrediction(bestNNModel_rS, ico_crypto20)\n",
        "plotNNR2.append(y_pred3)\n",
        "plotNNR2.append(y_pred4)\n",
        "plotNNR2.append(y_pred5)\n",
        "y_pred_holdout = bestNNModel_rS.predict(X_test_holdout)\n",
        "R2coefficientHoldout = r2_score(y_test_holdout, y_pred_holdout)\n",
        "rMeanSquaredErrorHoldout = sqrt(mean_squared_error(y_test_holdout, y_pred_holdout))\n",
        "meanAbsoluteErrorHoldout= mean_absolute_error(y_test_holdout, y_pred_holdout)\n",
        "print(\"Price of 3 ICO using best model R2\")\n",
        "print(\"Predicted value of ICO 0x (real price: 1.08) after 6 months using best model R2: \",y_pred3)\n",
        "print(\"Predicted value of ICO modum (real price: 2.79) after 6 months using best model R2: \",y_pred4)\n",
        "print(\"Predicted value of ICO crypto20 (real price: 0.9786) after 6 months using best model R2: \",y_pred5)\n",
        "print(\"Value rMSE, R2, MAE of best model R2\")\n",
        "print(\"Value rMSE: \", rMeanSquaredErrorHoldout)\n",
        "print(\"Value R2: \", R2coefficientHoldout)\n",
        "print(\"Value MAE: \", meanAbsoluteErrorHoldout) \n",
        "print(\"\\n\")       \n",
        "print(\"*************************************************************************************\")\n",
        "\n",
        "y_pred3 = makePrediction(bestNNModel_MAE, ico_0x)\n",
        "y_pred4 = makePrediction(bestNNModel_MAE, ico_modum)\n",
        "y_pred5 = makePrediction(bestNNModel_MAE, ico_crypto20)\n",
        "plotNNMAE.append(y_pred3)\n",
        "plotNNMAE.append(y_pred4)\n",
        "plotNNMAE.append(y_pred5)\n",
        "y_pred_holdout = bestNNModel_MAE.predict(X_test_holdout)\n",
        "R2coefficientHoldout = r2_score(y_test_holdout, y_pred_holdout)\n",
        "rMeanSquaredErrorHoldout = sqrt(mean_squared_error(y_test_holdout, y_pred_holdout))\n",
        "meanAbsoluteErrorHoldout= mean_absolute_error(y_test_holdout, y_pred_holdout)\n",
        "print(\"Price of 3 ICO using best model MAE\")\n",
        "print(\"Predicted value of ICO 0x (real price: 1.08) after 6 months using best model MAE: \",y_pred3)\n",
        "print(\"Predicted value of ICO modum (real price: 2.79) after 6 months using best model MAE: \",y_pred4)\n",
        "print(\"Predicted value of ICO crypto20 (real price: 0.9786) after 6 months using best model MAE: \",y_pred5)\n",
        "print(\"Value rMSE, R2, MAE of best model MAE\")\n",
        "print(\"Value rMSE: \", rMeanSquaredErrorHoldout)\n",
        "print(\"Value R2: \", R2coefficientHoldout)\n",
        "print(\"Value MAE: \", meanAbsoluteErrorHoldout)  \n",
        "print(\"\\n\")       \n",
        "print(\"*************************************************************************************\")\n",
        "plotPredicted(plotNNrMSE, plotNNR2, plotNNMAE)\n",
        "plotResult2(y_test_holdout, y_pred_holdout_rMSE, y_pred_holdout_R2, y_pred_holdout_MAE, y_pred_holdout_rMSE_NN, \n",
        "                y_pred_holdout_R2_NN, y_pred_holdout_MAE_NN, solver = Solvers.adam)"
      ]
    },
    {
      "cell_type": "markdown",
      "metadata": {
        "id": "vxSrp-pZP_DK"
      },
      "source": [
        "### FORECAST WITH MODEL USING SOLVER SGD"
      ]
    },
    {
      "cell_type": "code",
      "execution_count": null,
      "metadata": {
        "colab": {
          "base_uri": "https://localhost:8080/",
          "height": 1000
        },
        "id": "Woss3l9hQ5u9",
        "outputId": "099c4bc8-8802-4ac9-934c-1660ddfc54cf"
      },
      "outputs": [],
      "source": [
        "# Load model with best rMse and make prediction\n",
        "plotNNrMSE = []\n",
        "plotNNR2 = []\n",
        "plotNNMAE = []\n",
        "fileName = \"RESULT/\" + \"bestNNModel_\" + str(LineaReggressionMetrics.ROOT_MEAN_SQUARED_ERROR.name) + str(Solvers.sgd.name) + \".sav\"\n",
        "bestNN = joblib.load(fileName)\n",
        "\n",
        "fileName1 = \"RESULT/\" + \"bestNNModel_\" + str(LineaReggressionMetrics.R_SQUARED.name) + str(Solvers.sgd.name)+ \".sav\"\n",
        "bestNNModel_rS = joblib.load(fileName1)\n",
        "\n",
        "fileName2 = \"RESULT/\" + \"bestNNModel_\" + str(LineaReggressionMetrics.MEAN_ABSOLUTE_ERROR.name) + str(Solvers.sgd.name) +\".sav\"\n",
        "bestNNModel_MAE = joblib.load(fileName2)\n",
        "\n",
        "y_pred =  makePrediction(bestNN, ico_0x)\n",
        "y_pred1 = makePrediction(bestNN, ico_modum)\n",
        "y_pred2 = makePrediction(bestNN, ico_crypto20)\n",
        "plotNNrMSE.append(y_pred)\n",
        "plotNNrMSE.append(y_pred1)\n",
        "plotNNrMSE.append(y_pred2)\n",
        "y_pred_holdout = bestNN.predict(X_test_holdout)\n",
        "R2coefficientHoldout = r2_score(y_test_holdout, y_pred_holdout)\n",
        "rMeanSquaredErrorHoldout = sqrt(mean_squared_error(y_test_holdout, y_pred_holdout))\n",
        "meanAbsoluteErrorHoldout= mean_absolute_error(y_test_holdout, y_pred_holdout)\n",
        "print(\"Price of 3 ICO using best model rMSE\")\n",
        "print(\"Predicted value of ICO 0x (real price: 1.08) after 6 months using best model rMSE: \",y_pred)\n",
        "print(\"Predicted value of ICO modum (real price: 2.79) after 6 months using best model rMSE: \",y_pred1)\n",
        "print(\"Predicted value of ICO crypto20 (real price: 0.9786) after 6 months using best model rMSE: \",y_pred2)\n",
        "print(\"Value rMSE, R2, MAE of best model rMSE\")\n",
        "print(\"Value rMSE: \", rMeanSquaredErrorHoldout)\n",
        "print(\"Value R2: \", R2coefficientHoldout)\n",
        "print(\"Value MAE: \", meanAbsoluteErrorHoldout) \n",
        "print(\"\\n\")       \n",
        "print(\"*************************************************************************************\")\n",
        "\n",
        "y_pred3 = makePrediction(bestNNModel_rS, ico_0x)\n",
        "y_pred4 = makePrediction(bestNNModel_rS, ico_modum)\n",
        "y_pred5 = makePrediction(bestNNModel_rS, ico_crypto20)\n",
        "plotNNR2.append(y_pred3)\n",
        "plotNNR2.append(y_pred4)\n",
        "plotNNR2.append(y_pred5)\n",
        "y_pred_holdout = bestNNModel_rS.predict(X_test_holdout)\n",
        "R2coefficientHoldout = r2_score(y_test_holdout, y_pred_holdout)\n",
        "rMeanSquaredErrorHoldout = sqrt(mean_squared_error(y_test_holdout, y_pred_holdout))\n",
        "meanAbsoluteErrorHoldout= mean_absolute_error(y_test_holdout, y_pred_holdout)\n",
        "print(\"Price of 3 ICO using best model R2\")\n",
        "print(\"Predicted value of ICO 0x (real price: 1.08) after 6 months using best model R2: \",y_pred3)\n",
        "print(\"Predicted value of ICO modum (real price: 2.79) after 6 months using best model R2: \",y_pred4)\n",
        "print(\"Predicted value of ICO crypto20 (real price: 0.9786) after 6 months using best model R2: \",y_pred5)\n",
        "print(\"Value rMSE, R2, MAE of best model R2\")\n",
        "print(\"Value rMSE: \", rMeanSquaredErrorHoldout)\n",
        "print(\"Value R2: \", R2coefficientHoldout)\n",
        "print(\"Value MAE: \", meanAbsoluteErrorHoldout) \n",
        "print(\"\\n\")       \n",
        "print(\"*************************************************************************************\")\n",
        "\n",
        "y_pred3 = makePrediction(bestNNModel_MAE, ico_0x)\n",
        "y_pred4 = makePrediction(bestNNModel_MAE, ico_modum)\n",
        "y_pred5 = makePrediction(bestNNModel_MAE, ico_crypto20)\n",
        "plotNNMAE.append(y_pred3)\n",
        "plotNNMAE.append(y_pred4)\n",
        "plotNNMAE.append(y_pred5)\n",
        "y_pred_holdout = bestNNModel_MAE.predict(X_test_holdout)\n",
        "R2coefficientHoldout = r2_score(y_test_holdout, y_pred_holdout)\n",
        "rMeanSquaredErrorHoldout = sqrt(mean_squared_error(y_test_holdout, y_pred_holdout))\n",
        "meanAbsoluteErrorHoldout= mean_absolute_error(y_test_holdout, y_pred_holdout)\n",
        "print(\"Price of 3 ICO using best model MAE\")\n",
        "print(\"Predicted value of ICO 0x (real price: 1.08) after 6 months using best model MAE: \",y_pred3)\n",
        "print(\"Predicted value of ICO modum (real price: 2.79) after 6 months using best model MAE: \",y_pred4)\n",
        "print(\"Predicted value of ICO crypto20 (real price: 0.9786) after 6 months using best model MAE: \",y_pred5)\n",
        "print(\"Value rMSE, R2, MAE of best model MAE\")\n",
        "print(\"Value rMSE: \", rMeanSquaredErrorHoldout)\n",
        "print(\"Value R2: \", R2coefficientHoldout)\n",
        "print(\"Value MAE: \", meanAbsoluteErrorHoldout)  \n",
        "print(\"\\n\")       \n",
        "print(\"*************************************************************************************\")\n",
        "plotPredicted(plotNNrMSE, plotNNR2, plotNNMAE)\n",
        "plotResult2(y_test_holdout, y_pred_holdout_rMSE, y_pred_holdout_R2, y_pred_holdout_MAE, y_pred_holdout_rMSE_NN, \n",
        "                y_pred_holdout_R2_NN, y_pred_holdout_MAE_NN, solver = Solvers.sgd)"
      ]
    }
  ],
  "metadata": {
    "accelerator": "GPU",
    "colab": {
      "collapsed_sections": [],
      "provenance": [],
      "toc_visible": true
    },
    "interpreter": {
      "hash": "e8755eff31258cf3f68aa399e6f759d79082959dfad6f58a9830d0e0b06355a5"
    },
    "kernelspec": {
      "display_name": "Python 3.9.12 ('base')",
      "language": "python",
      "name": "python3"
    },
    "language_info": {
      "codemirror_mode": {
        "name": "ipython",
        "version": 3
      },
      "file_extension": ".py",
      "mimetype": "text/x-python",
      "name": "python",
      "nbconvert_exporter": "python",
      "pygments_lexer": "ipython3",
      "version": "3.9.12"
    }
  },
  "nbformat": 4,
  "nbformat_minor": 0
}
